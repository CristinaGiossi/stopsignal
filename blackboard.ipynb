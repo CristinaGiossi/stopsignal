{
 "cells": [
  {
   "cell_type": "code",
   "execution_count": null,
   "metadata": {},
   "outputs": [],
   "source": [
    "#FOR ALL THE POPULATIONS FR, COMPUTE MEAN OVER TRIALS LINED ON THE STIMULUS ONSET TIME \n",
    "\n",
    "\n",
    "import statistics\n",
    "plt_func.rename_columns(results[0])\n",
    "ratedf = results[0]['popfreqs']\n",
    "keysInicials=[]\n",
    "keysFinals=[]\n",
    "datatables = cbgt.collateVariable(results,'datatables')\n",
    "\n",
    "\n",
    "#find the initial key of each trial\n",
    "for j in datatables[0].stimulusstarttime:\n",
    "    i=0\n",
    "    noTrobat=0\n",
    "    while noTrobat==0 and i<len(ratedf['Time (ms)']):\n",
    "        if ratedf['Time (ms)'][i]<j:\n",
    "            i=i+1\n",
    "        else: \n",
    "            noTrobat=1    \n",
    "    keysInicials.append(i)\n",
    "\n",
    "    \n",
    "#find the final key of each trial\n",
    "for j in datatables[0].rewardtime:\n",
    "    i=0\n",
    "    noTrobat=0\n",
    "    while noTrobat==0 and i<len(ratedf['Time (ms)']):\n",
    "        if ratedf['Time (ms)'][i]<j:\n",
    "            i=i+1\n",
    "        else: \n",
    "            noTrobat=1    \n",
    "    keysFinals.append(i-1)     \n",
    "        \n",
    "#find the length of the largest trial\n",
    "dif=[]\n",
    "for i in range(0,len(keysInicials)):\n",
    "    dif.append(keysFinals[i]-keysInicials[i])\n",
    "L=max(dif)\n",
    "        \n",
    "#become all datatables of the same length\n",
    "\n",
    "Mean_newDic={}\n",
    "Std_newDic={}\n",
    "for BGregion in ratedf:\n",
    "    S=[]\n",
    "    for i in range(0,len(keysInicials)):\n",
    "        region_i=ratedf[keysInicials[i]:keysFinals[i]].to_dict()\n",
    "        region_i=list(region_i[BGregion].values())\n",
    "        li=len(region_i)\n",
    "        j=1\n",
    "        while j<=L-li:\n",
    "            region_i=[-1]+region_i\n",
    "            j=j+1\n",
    "        S.append(region_i)\n",
    "    mean_t=[]\n",
    "    std_t=[]\n",
    "    for i in range(0,L):\n",
    "        new_list=[]\n",
    "        for ll in S:\n",
    "            if ll[i]!= -1:\n",
    "                new_list.append(ll[i])\n",
    "        mean_t.append(statistics.mean(new_list)) #sum(new_list)/len(new_list))\n",
    "        std_t.append(statistics.stdev(new_list))\n",
    "    \n",
    "    Mean_newDic[BGregion]=mean_t\n",
    "    Std_newDic[BGregion]=std_t\n",
    "    \n",
    "\n",
    "i=0\n",
    "tmean=[]\n",
    "while i<len(newDic['LIP_0_0']):\n",
    "    tmean.append(i-len(Mean_newDic['LIP_0_0'])+4)\n",
    "    i=i+1"
   ]
  },
  {
   "cell_type": "code",
   "execution_count": 3,
   "metadata": {},
   "outputs": [
    {
     "ename": "NameError",
     "evalue": "name 'datables' is not defined",
     "output_type": "error",
     "traceback": [
      "\u001b[0;31m---------------------------------------------------------------------------\u001b[0m",
      "\u001b[0;31mNameError\u001b[0m                                 Traceback (most recent call last)",
      "\u001b[0;32m<ipython-input-3-0e77e5067017>\u001b[0m in \u001b[0;36m<module>\u001b[0;34m\u001b[0m\n\u001b[1;32m      2\u001b[0m \u001b[0mcorrect_stop\u001b[0m \u001b[0;34m=\u001b[0m \u001b[0mpd\u001b[0m\u001b[0;34m.\u001b[0m\u001b[0mDataFrame\u001b[0m\u001b[0;34m(\u001b[0m\u001b[0;34m)\u001b[0m\u001b[0;34m\u001b[0m\u001b[0;34m\u001b[0m\u001b[0m\n\u001b[1;32m      3\u001b[0m \u001b[0;34m\u001b[0m\u001b[0m\n\u001b[0;32m----> 4\u001b[0;31m \u001b[0;32mfor\u001b[0m \u001b[0mi\u001b[0m \u001b[0;32min\u001b[0m \u001b[0mdatables\u001b[0m\u001b[0;34m[\u001b[0m\u001b[0;36m0\u001b[0m\u001b[0;34m]\u001b[0m\u001b[0;34m.\u001b[0m\u001b[0mindex\u001b[0m\u001b[0;34m:\u001b[0m\u001b[0;34m\u001b[0m\u001b[0;34m\u001b[0m\u001b[0m\n\u001b[0m\u001b[1;32m      5\u001b[0m     \u001b[0;32mif\u001b[0m \u001b[0mdatables\u001b[0m\u001b[0;34m[\u001b[0m\u001b[0;36m0\u001b[0m\u001b[0;34m]\u001b[0m\u001b[0;34m.\u001b[0m\u001b[0mdecision\u001b[0m\u001b[0;34m[\u001b[0m\u001b[0mi\u001b[0m\u001b[0;34m]\u001b[0m \u001b[0;34m==\u001b[0m \u001b[0;34m'stop'\u001b[0m\u001b[0;34m:\u001b[0m\u001b[0;34m\u001b[0m\u001b[0;34m\u001b[0m\u001b[0m\n\u001b[1;32m      6\u001b[0m         \u001b[0mnew_data\u001b[0m \u001b[0;34m=\u001b[0m \u001b[0mpd\u001b[0m\u001b[0;34m.\u001b[0m\u001b[0mDataFrame\u001b[0m\u001b[0;34m(\u001b[0m\u001b[0mdatables\u001b[0m\u001b[0;34m[\u001b[0m\u001b[0;36m0\u001b[0m\u001b[0;34m]\u001b[0m\u001b[0;34m.\u001b[0m\u001b[0miloc\u001b[0m\u001b[0;34m[\u001b[0m\u001b[0mi\u001b[0m\u001b[0;34m]\u001b[0m\u001b[0;34m.\u001b[0m\u001b[0mvalues\u001b[0m\u001b[0;34m,\u001b[0m \u001b[0mcolumns\u001b[0m\u001b[0;34m=\u001b[0m\u001b[0mdatables\u001b[0m\u001b[0;34m[\u001b[0m\u001b[0;36m0\u001b[0m\u001b[0;34m]\u001b[0m\u001b[0;34m.\u001b[0m\u001b[0mcolumns\u001b[0m\u001b[0;34m)\u001b[0m\u001b[0;34m\u001b[0m\u001b[0;34m\u001b[0m\u001b[0m\n",
      "\u001b[0;31mNameError\u001b[0m: name 'datables' is not defined"
     ]
    }
   ],
   "source": [
    "import pandas as pd \n",
    "correct_stop = pd.DataFrame()\n",
    "\n",
    "for i in datables[0].index: \n",
    "    if datables[0].decision[i] == 'stop': \n",
    "        new_data = pd.DataFrame(datables[0].iloc[i].values, columns=datables[0].columns)\n",
    "        correct_stop = correct_stop.append([correct_stop, new_data], ignore_index=True)"
   ]
  },
  {
   "cell_type": "code",
   "execution_count": null,
   "metadata": {},
   "outputs": [],
   "source": [
    "failed stop = pd.DataFrame()\n",
    "\n",
    "for i in datables[0].index: \n",
    "    if datables[0].decision[i] != 'stop': \n",
    "        new_data = pd.DataFrame(datables[0].iloc[i])\n",
    "        failed_stop = failed_stop.append(new_data)"
   ]
  },
  {
   "cell_type": "code",
   "execution_count": null,
   "metadata": {},
   "outputs": [],
   "source": [
    "slow_go = pd.DataFrame()\n",
    "\n",
    "for i in datables[0].index: \n",
    "    if datables[0].decisiontime[i] > 130: \n",
    "        new_data = pd.DataFrame(datables[0].iloc[i])\n",
    "        slow_go = slow_go.append(new_data)"
   ]
  },
  {
   "cell_type": "code",
   "execution_count": null,
   "metadata": {},
   "outputs": [],
   "source": [
    "fast_go = pd.DataFrame()\n",
    "\n",
    "for i in datables[0].index: \n",
    "    if datables[0].decisiontime[i] <= 130: \n",
    "        new_data = pd.DataFrame(datables[0].iloc[i])\n",
    "        fast_go = fast_go.append(new_data)"
   ]
  },
  {
   "cell_type": "code",
   "execution_count": null,
   "metadata": {},
   "outputs": [],
   "source": []
  },
  {
   "cell_type": "code",
   "execution_count": 4,
   "metadata": {},
   "outputs": [
    {
     "ename": "NameError",
     "evalue": "name 'datables' is not defined",
     "output_type": "error",
     "traceback": [
      "\u001b[0;31m---------------------------------------------------------------------------\u001b[0m",
      "\u001b[0;31mNameError\u001b[0m                                 Traceback (most recent call last)",
      "\u001b[0;32m<ipython-input-4-be41e8861a88>\u001b[0m in \u001b[0;36m<module>\u001b[0;34m\u001b[0m\n\u001b[1;32m      1\u001b[0m \u001b[0mstop\u001b[0m \u001b[0;34m=\u001b[0m \u001b[0;34m[\u001b[0m\u001b[0;34m]\u001b[0m\u001b[0;34m\u001b[0m\u001b[0;34m\u001b[0m\u001b[0m\n\u001b[0;32m----> 2\u001b[0;31m \u001b[0;32mfor\u001b[0m \u001b[0mi\u001b[0m \u001b[0;32min\u001b[0m \u001b[0mdatables\u001b[0m\u001b[0;34m[\u001b[0m\u001b[0;36m0\u001b[0m\u001b[0;34m]\u001b[0m\u001b[0;34m.\u001b[0m\u001b[0mindex\u001b[0m\u001b[0;34m:\u001b[0m\u001b[0;34m\u001b[0m\u001b[0;34m\u001b[0m\u001b[0m\n\u001b[0m\u001b[1;32m      3\u001b[0m     \u001b[0;32mif\u001b[0m \u001b[0mdatables\u001b[0m\u001b[0;34m[\u001b[0m\u001b[0;36m0\u001b[0m\u001b[0;34m]\u001b[0m\u001b[0;34m.\u001b[0m\u001b[0mdecision\u001b[0m\u001b[0;34m[\u001b[0m\u001b[0mi\u001b[0m\u001b[0;34m]\u001b[0m \u001b[0;34m==\u001b[0m \u001b[0;34m'stop'\u001b[0m\u001b[0;34m:\u001b[0m\u001b[0;34m\u001b[0m\u001b[0;34m\u001b[0m\u001b[0m\n\u001b[1;32m      4\u001b[0m         \u001b[0mstop\u001b[0m\u001b[0;34m.\u001b[0m\u001b[0mappend\u001b[0m\u001b[0;34m(\u001b[0m\u001b[0;36m1\u001b[0m\u001b[0;34m)\u001b[0m\u001b[0;34m\u001b[0m\u001b[0;34m\u001b[0m\u001b[0m\n\u001b[1;32m      5\u001b[0m \u001b[0mnum_stop\u001b[0m \u001b[0;34m=\u001b[0m \u001b[0mlen\u001b[0m\u001b[0;34m(\u001b[0m\u001b[0mstop\u001b[0m\u001b[0;34m)\u001b[0m\u001b[0;34m\u001b[0m\u001b[0;34m\u001b[0m\u001b[0m\n",
      "\u001b[0;31mNameError\u001b[0m: name 'datables' is not defined"
     ]
    }
   ],
   "source": [
    "stop = []\n",
    "for i in datables[0].index: \n",
    "    if datables[0].decision[i] == 'stop': \n",
    "        stop.append(1)\n",
    "num_stop = len(stop)\n",
    "print(num_stop)\n",
    "correct_stop = pd.DataFrame(columns=[untrace(\n",
    "                datables[0].iloc[i]['stimulusstarttime']) for i in datatables[0].index])\n",
    "print(correct_stop)\n"
   ]
  },
  {
   "cell_type": "code",
   "execution_count": null,
   "metadata": {},
   "outputs": [],
   "source": [
    "correct_stop = correct_stop.append(\n",
    "        {column: 0.5 for column in Q_df.columns}, ignore_index=True)\n",
    "    # Different initial values for Q_df should be taken care when calling this function with q_df and non-None value\n",
    "    # eg. q_df = pd.DataFrame({1: 0.5, 2: 0.6})\n",
    "\n",
    "    if q_df is not None:\n",
    "        Q_df = pd.DataFrame(\n",
    "            columns=[\n",
    "                untrace(\n",
    "                    actionchannels.iloc[na][\"action\"]) for na in np.arange(num_actions)])\n",
    "        print(\"Q_df\", Q_df)\n",
    "        Q_df = Q_df.append(\n",
    "            {column: 0.5 for column in Q_df.columns}, ignore_index=True)\n",
    "\n",
    "        Q_df = ModifyViaSelector(Q_df, q_df)\n",
    "\n",
    "    return Q_df"
   ]
  }
 ],
 "metadata": {
  "kernelspec": {
   "display_name": "Python 3",
   "language": "python",
   "name": "python3"
  },
  "language_info": {
   "codemirror_mode": {
    "name": "ipython",
    "version": 3
   },
   "file_extension": ".py",
   "mimetype": "text/x-python",
   "name": "python",
   "nbconvert_exporter": "python",
   "pygments_lexer": "ipython3",
   "version": "3.8.5"
  }
 },
 "nbformat": 4,
 "nbformat_minor": 4
}
